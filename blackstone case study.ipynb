{
 "cells": [
  {
   "cell_type": "code",
   "execution_count": 1,
   "metadata": {},
   "outputs": [],
   "source": [
    "import pandas as pd\n",
    "import os\n",
    "df = pd.read_csv('pmp_takehome_2019.csv')"
   ]
  },
  {
   "cell_type": "code",
   "execution_count": 2,
   "metadata": {},
   "outputs": [
    {
     "data": {
      "text/html": [
       "<div>\n",
       "<style scoped>\n",
       "    .dataframe tbody tr th:only-of-type {\n",
       "        vertical-align: middle;\n",
       "    }\n",
       "\n",
       "    .dataframe tbody tr th {\n",
       "        vertical-align: top;\n",
       "    }\n",
       "\n",
       "    .dataframe thead th {\n",
       "        text-align: right;\n",
       "    }\n",
       "</style>\n",
       "<table border=\"1\" class=\"dataframe\">\n",
       "  <thead>\n",
       "    <tr style=\"text-align: right;\">\n",
       "      <th></th>\n",
       "      <th>Location number</th>\n",
       "      <th>Month</th>\n",
       "      <th>State</th>\n",
       "      <th>Gross revenue</th>\n",
       "      <th>Fixed cost</th>\n",
       "      <th>Variable cost</th>\n",
       "      <th>Rental cost</th>\n",
       "      <th>Number of products</th>\n",
       "      <th>Owned</th>\n",
       "    </tr>\n",
       "  </thead>\n",
       "  <tbody>\n",
       "    <tr>\n",
       "      <th>0</th>\n",
       "      <td>1</td>\n",
       "      <td>1</td>\n",
       "      <td>TX</td>\n",
       "      <td>48628171.02</td>\n",
       "      <td>9218156.69</td>\n",
       "      <td>24278189.23</td>\n",
       "      <td>365880</td>\n",
       "      <td>4452</td>\n",
       "      <td>False</td>\n",
       "    </tr>\n",
       "    <tr>\n",
       "      <th>1</th>\n",
       "      <td>1</td>\n",
       "      <td>2</td>\n",
       "      <td>TX</td>\n",
       "      <td>48107179.24</td>\n",
       "      <td>10587747.35</td>\n",
       "      <td>25116844.41</td>\n",
       "      <td>365880</td>\n",
       "      <td>4452</td>\n",
       "      <td>False</td>\n",
       "    </tr>\n",
       "    <tr>\n",
       "      <th>2</th>\n",
       "      <td>1</td>\n",
       "      <td>3</td>\n",
       "      <td>TX</td>\n",
       "      <td>64352278.29</td>\n",
       "      <td>10193873.77</td>\n",
       "      <td>33703499.83</td>\n",
       "      <td>365880</td>\n",
       "      <td>4452</td>\n",
       "      <td>False</td>\n",
       "    </tr>\n",
       "    <tr>\n",
       "      <th>3</th>\n",
       "      <td>1</td>\n",
       "      <td>4</td>\n",
       "      <td>TX</td>\n",
       "      <td>45943677.96</td>\n",
       "      <td>8764165.00</td>\n",
       "      <td>24037719.47</td>\n",
       "      <td>365880</td>\n",
       "      <td>4452</td>\n",
       "      <td>False</td>\n",
       "    </tr>\n",
       "    <tr>\n",
       "      <th>4</th>\n",
       "      <td>1</td>\n",
       "      <td>5</td>\n",
       "      <td>TX</td>\n",
       "      <td>32761434.98</td>\n",
       "      <td>8022116.43</td>\n",
       "      <td>16432119.18</td>\n",
       "      <td>365880</td>\n",
       "      <td>4452</td>\n",
       "      <td>False</td>\n",
       "    </tr>\n",
       "  </tbody>\n",
       "</table>\n",
       "</div>"
      ],
      "text/plain": [
       "   Location number  Month State  Gross revenue   Fixed cost  Variable cost  \\\n",
       "0                1      1    TX    48628171.02   9218156.69    24278189.23   \n",
       "1                1      2    TX    48107179.24  10587747.35    25116844.41   \n",
       "2                1      3    TX    64352278.29  10193873.77    33703499.83   \n",
       "3                1      4    TX    45943677.96   8764165.00    24037719.47   \n",
       "4                1      5    TX    32761434.98   8022116.43    16432119.18   \n",
       "\n",
       "   Rental cost  Number of products  Owned  \n",
       "0       365880                4452  False  \n",
       "1       365880                4452  False  \n",
       "2       365880                4452  False  \n",
       "3       365880                4452  False  \n",
       "4       365880                4452  False  "
      ]
     },
     "execution_count": 2,
     "metadata": {},
     "output_type": "execute_result"
    }
   ],
   "source": [
    "## check first rows\n",
    "df.head()"
   ]
  },
  {
   "cell_type": "code",
   "execution_count": 3,
   "metadata": {},
   "outputs": [
    {
     "data": {
      "text/plain": [
       "Location number         int64\n",
       "Month                   int64\n",
       "State                  object\n",
       "Gross revenue         float64\n",
       "Fixed cost            float64\n",
       "Variable cost         float64\n",
       "Rental cost             int64\n",
       "Number of products      int64\n",
       "Owned                    bool\n",
       "dtype: object"
      ]
     },
     "execution_count": 3,
     "metadata": {},
     "output_type": "execute_result"
    }
   ],
   "source": [
    "## check datatypes\n",
    "df.dtypes"
   ]
  },
  {
   "cell_type": "code",
   "execution_count": 4,
   "metadata": {},
   "outputs": [
    {
     "data": {
      "text/plain": [
       "Location number       0\n",
       "Month                 0\n",
       "State                 0\n",
       "Gross revenue         0\n",
       "Fixed cost            0\n",
       "Variable cost         0\n",
       "Rental cost           0\n",
       "Number of products    0\n",
       "Owned                 0\n",
       "dtype: int64"
      ]
     },
     "execution_count": 4,
     "metadata": {},
     "output_type": "execute_result"
    }
   ],
   "source": [
    "## check for null values - none, good\n",
    "df.isnull().sum()"
   ]
  },
  {
   "cell_type": "markdown",
   "metadata": {},
   "source": [
    "In order to find out the Profit Margin, need to first calculate Total Cost from Fixed and Variable Costs. \n",
    "\n",
    "VERY IMPORTANT: Rental Cost is *not* included in Fixed or Variable costs"
   ]
  },
  {
   "cell_type": "code",
   "execution_count": 5,
   "metadata": {},
   "outputs": [
    {
     "data": {
      "text/plain": [
       "0    33862225.92\n",
       "1    36070471.76\n",
       "2    44263253.60\n",
       "Name: Total cost, dtype: float64"
      ]
     },
     "execution_count": 5,
     "metadata": {},
     "output_type": "execute_result"
    }
   ],
   "source": [
    "df['Total cost'] = df['Fixed cost'] + df['Variable cost'] + df['Rental cost'];\n",
    "df['Total cost'].head(3)"
   ]
  },
  {
   "cell_type": "markdown",
   "metadata": {},
   "source": [
    "Net profit is the money left over after paying all the expenses\n",
    "\n",
    "https://en.wikipedia.org/wiki/Net_income"
   ]
  },
  {
   "cell_type": "code",
   "execution_count": 6,
   "metadata": {},
   "outputs": [
    {
     "data": {
      "text/plain": [
       "0    14765945.10\n",
       "1    12036707.48\n",
       "2    20089024.69\n",
       "Name: Net profit, dtype: float64"
      ]
     },
     "execution_count": 6,
     "metadata": {},
     "output_type": "execute_result"
    }
   ],
   "source": [
    "df['Net profit'] = df['Gross revenue'] - df['Total cost']\n",
    "df['Net profit'].head(3)"
   ]
  },
  {
   "cell_type": "markdown",
   "metadata": {},
   "source": [
    "Profit margin is calculated by finding the net profit as a percentage of the revenue\n",
    "\n",
    "https://en.wikipedia.org/wiki/Profit_margin"
   ]
  },
  {
   "cell_type": "code",
   "execution_count": 7,
   "metadata": {},
   "outputs": [
    {
     "data": {
      "text/plain": [
       "0    0.303650\n",
       "1    0.250206\n",
       "2    0.312173\n",
       "3    0.278078\n",
       "4    0.242398\n",
       "Name: Profit margin, dtype: float64"
      ]
     },
     "execution_count": 7,
     "metadata": {},
     "output_type": "execute_result"
    }
   ],
   "source": [
    "df['Profit margin'] = df['Net profit'] / df['Gross revenue']\n",
    "df['Profit margin'].head()"
   ]
  },
  {
   "cell_type": "code",
   "execution_count": 8,
   "metadata": {},
   "outputs": [
    {
     "data": {
      "text/html": [
       "<div>\n",
       "<style scoped>\n",
       "    .dataframe tbody tr th:only-of-type {\n",
       "        vertical-align: middle;\n",
       "    }\n",
       "\n",
       "    .dataframe tbody tr th {\n",
       "        vertical-align: top;\n",
       "    }\n",
       "\n",
       "    .dataframe thead th {\n",
       "        text-align: right;\n",
       "    }\n",
       "</style>\n",
       "<table border=\"1\" class=\"dataframe\">\n",
       "  <thead>\n",
       "    <tr style=\"text-align: right;\">\n",
       "      <th></th>\n",
       "      <th>Location number</th>\n",
       "      <th>Month</th>\n",
       "      <th>State</th>\n",
       "      <th>Gross revenue</th>\n",
       "      <th>Fixed cost</th>\n",
       "      <th>Variable cost</th>\n",
       "      <th>Rental cost</th>\n",
       "      <th>Number of products</th>\n",
       "      <th>Owned</th>\n",
       "      <th>Total cost</th>\n",
       "      <th>Net profit</th>\n",
       "      <th>Profit margin</th>\n",
       "      <th>Revenue in millions</th>\n",
       "      <th>Profit in millions</th>\n",
       "    </tr>\n",
       "  </thead>\n",
       "  <tbody>\n",
       "    <tr>\n",
       "      <th>0</th>\n",
       "      <td>1</td>\n",
       "      <td>1</td>\n",
       "      <td>TX</td>\n",
       "      <td>48628171.02</td>\n",
       "      <td>9218156.69</td>\n",
       "      <td>24278189.23</td>\n",
       "      <td>365880</td>\n",
       "      <td>4452</td>\n",
       "      <td>False</td>\n",
       "      <td>33862225.92</td>\n",
       "      <td>14765945.10</td>\n",
       "      <td>0.303650</td>\n",
       "      <td>48.628171</td>\n",
       "      <td>14.765945</td>\n",
       "    </tr>\n",
       "    <tr>\n",
       "      <th>1</th>\n",
       "      <td>1</td>\n",
       "      <td>2</td>\n",
       "      <td>TX</td>\n",
       "      <td>48107179.24</td>\n",
       "      <td>10587747.35</td>\n",
       "      <td>25116844.41</td>\n",
       "      <td>365880</td>\n",
       "      <td>4452</td>\n",
       "      <td>False</td>\n",
       "      <td>36070471.76</td>\n",
       "      <td>12036707.48</td>\n",
       "      <td>0.250206</td>\n",
       "      <td>48.107179</td>\n",
       "      <td>12.036707</td>\n",
       "    </tr>\n",
       "  </tbody>\n",
       "</table>\n",
       "</div>"
      ],
      "text/plain": [
       "   Location number  Month State  Gross revenue   Fixed cost  Variable cost  \\\n",
       "0                1      1    TX    48628171.02   9218156.69    24278189.23   \n",
       "1                1      2    TX    48107179.24  10587747.35    25116844.41   \n",
       "\n",
       "   Rental cost  Number of products  Owned   Total cost   Net profit  \\\n",
       "0       365880                4452  False  33862225.92  14765945.10   \n",
       "1       365880                4452  False  36070471.76  12036707.48   \n",
       "\n",
       "   Profit margin  Revenue in millions  Profit in millions  \n",
       "0       0.303650            48.628171           14.765945  \n",
       "1       0.250206            48.107179           12.036707  "
      ]
     },
     "execution_count": 8,
     "metadata": {},
     "output_type": "execute_result"
    }
   ],
   "source": [
    "## to make revenue and profit easier to read/interpret in table/visuals\n",
    "df['Revenue in millions'] = df['Gross revenue'] / 1000000\n",
    "df['Profit in millions'] = df['Net profit'] / 1000000\n",
    "df.head(2)"
   ]
  },
  {
   "cell_type": "markdown",
   "metadata": {},
   "source": [
    "### To get the annual profit margin, need to find annual profit and annual revenue of each store\n",
    "\n",
    "#### easier to do that with a new df where each row is a store. cols aggregate revenue and profit"
   ]
  },
  {
   "cell_type": "code",
   "execution_count": 9,
   "metadata": {},
   "outputs": [
    {
     "data": {
      "text/html": [
       "<div>\n",
       "<style scoped>\n",
       "    .dataframe tbody tr th:only-of-type {\n",
       "        vertical-align: middle;\n",
       "    }\n",
       "\n",
       "    .dataframe tbody tr th {\n",
       "        vertical-align: top;\n",
       "    }\n",
       "\n",
       "    .dataframe thead th {\n",
       "        text-align: right;\n",
       "    }\n",
       "</style>\n",
       "<table border=\"1\" class=\"dataframe\">\n",
       "  <thead>\n",
       "    <tr style=\"text-align: right;\">\n",
       "      <th></th>\n",
       "      <th>Annual revenue</th>\n",
       "      <th>Annual profit</th>\n",
       "    </tr>\n",
       "    <tr>\n",
       "      <th>Location number</th>\n",
       "      <th></th>\n",
       "      <th></th>\n",
       "    </tr>\n",
       "  </thead>\n",
       "  <tbody>\n",
       "    <tr>\n",
       "      <th>1</th>\n",
       "      <td>544738868.63</td>\n",
       "      <td>150084018.05</td>\n",
       "    </tr>\n",
       "    <tr>\n",
       "      <th>2</th>\n",
       "      <td>355973012.71</td>\n",
       "      <td>88586723.97</td>\n",
       "    </tr>\n",
       "  </tbody>\n",
       "</table>\n",
       "</div>"
      ],
      "text/plain": [
       "                 Annual revenue  Annual profit\n",
       "Location number                               \n",
       "1                  544738868.63   150084018.05\n",
       "2                  355973012.71    88586723.97"
      ]
     },
     "execution_count": 9,
     "metadata": {},
     "output_type": "execute_result"
    }
   ],
   "source": [
    "stores_group = df.groupby('Location number')\n",
    "stores_df = pd.DataFrame()\n",
    "stores_df['Annual revenue'] = stores_group['Gross revenue'].sum()\n",
    "stores_df['Annual profit'] = stores_group['Net profit'].sum()\n",
    "\n",
    "## switch from scinotation\n",
    "pd.set_option('display.float_format', lambda x: '%.2f' % x)\n",
    "\n",
    "stores_df.head(2)"
   ]
  },
  {
   "cell_type": "code",
   "execution_count": 10,
   "metadata": {},
   "outputs": [
    {
     "data": {
      "text/html": [
       "<div>\n",
       "<style scoped>\n",
       "    .dataframe tbody tr th:only-of-type {\n",
       "        vertical-align: middle;\n",
       "    }\n",
       "\n",
       "    .dataframe tbody tr th {\n",
       "        vertical-align: top;\n",
       "    }\n",
       "\n",
       "    .dataframe thead th {\n",
       "        text-align: right;\n",
       "    }\n",
       "</style>\n",
       "<table border=\"1\" class=\"dataframe\">\n",
       "  <thead>\n",
       "    <tr style=\"text-align: right;\">\n",
       "      <th></th>\n",
       "      <th>Annual revenue</th>\n",
       "      <th>Annual profit</th>\n",
       "    </tr>\n",
       "    <tr>\n",
       "      <th>Location number</th>\n",
       "      <th></th>\n",
       "      <th></th>\n",
       "    </tr>\n",
       "  </thead>\n",
       "  <tbody>\n",
       "    <tr>\n",
       "      <th>332</th>\n",
       "      <td>343263906.49</td>\n",
       "      <td>106096703.68</td>\n",
       "    </tr>\n",
       "    <tr>\n",
       "      <th>333</th>\n",
       "      <td>663919160.86</td>\n",
       "      <td>181921507.46</td>\n",
       "    </tr>\n",
       "  </tbody>\n",
       "</table>\n",
       "</div>"
      ],
      "text/plain": [
       "                 Annual revenue  Annual profit\n",
       "Location number                               \n",
       "332                343263906.49   106096703.68\n",
       "333                663919160.86   181921507.46"
      ]
     },
     "execution_count": 10,
     "metadata": {},
     "output_type": "execute_result"
    }
   ],
   "source": [
    "stores_df.tail(2)"
   ]
  },
  {
   "cell_type": "code",
   "execution_count": 11,
   "metadata": {},
   "outputs": [
    {
     "data": {
      "text/html": [
       "<div>\n",
       "<style scoped>\n",
       "    .dataframe tbody tr th:only-of-type {\n",
       "        vertical-align: middle;\n",
       "    }\n",
       "\n",
       "    .dataframe tbody tr th {\n",
       "        vertical-align: top;\n",
       "    }\n",
       "\n",
       "    .dataframe thead th {\n",
       "        text-align: right;\n",
       "    }\n",
       "</style>\n",
       "<table border=\"1\" class=\"dataframe\">\n",
       "  <thead>\n",
       "    <tr style=\"text-align: right;\">\n",
       "      <th></th>\n",
       "      <th>Annual revenue</th>\n",
       "      <th>Annual profit</th>\n",
       "      <th>Annual profit margin</th>\n",
       "    </tr>\n",
       "    <tr>\n",
       "      <th>Location number</th>\n",
       "      <th></th>\n",
       "      <th></th>\n",
       "      <th></th>\n",
       "    </tr>\n",
       "  </thead>\n",
       "  <tbody>\n",
       "    <tr>\n",
       "      <th>1</th>\n",
       "      <td>544738868.63</td>\n",
       "      <td>150084018.05</td>\n",
       "      <td>0.28</td>\n",
       "    </tr>\n",
       "    <tr>\n",
       "      <th>2</th>\n",
       "      <td>355973012.71</td>\n",
       "      <td>88586723.97</td>\n",
       "      <td>0.25</td>\n",
       "    </tr>\n",
       "  </tbody>\n",
       "</table>\n",
       "</div>"
      ],
      "text/plain": [
       "                 Annual revenue  Annual profit  Annual profit margin\n",
       "Location number                                                     \n",
       "1                  544738868.63   150084018.05                  0.28\n",
       "2                  355973012.71    88586723.97                  0.25"
      ]
     },
     "execution_count": 11,
     "metadata": {},
     "output_type": "execute_result"
    }
   ],
   "source": [
    "stores_df['Annual profit margin'] = stores_df['Annual profit'] / stores_df['Annual revenue']\n",
    "stores_df.head(2)"
   ]
  },
  {
   "cell_type": "code",
   "execution_count": 12,
   "metadata": {},
   "outputs": [
    {
     "data": {
      "text/html": [
       "<div>\n",
       "<style scoped>\n",
       "    .dataframe tbody tr th:only-of-type {\n",
       "        vertical-align: middle;\n",
       "    }\n",
       "\n",
       "    .dataframe tbody tr th {\n",
       "        vertical-align: top;\n",
       "    }\n",
       "\n",
       "    .dataframe thead th {\n",
       "        text-align: right;\n",
       "    }\n",
       "</style>\n",
       "<table border=\"1\" class=\"dataframe\">\n",
       "  <thead>\n",
       "    <tr style=\"text-align: right;\">\n",
       "      <th></th>\n",
       "      <th>Annual revenue</th>\n",
       "      <th>Annual profit</th>\n",
       "      <th>Annual profit margin</th>\n",
       "      <th>Annual revenue in millions</th>\n",
       "      <th>Annual profit in millions</th>\n",
       "    </tr>\n",
       "    <tr>\n",
       "      <th>Location number</th>\n",
       "      <th></th>\n",
       "      <th></th>\n",
       "      <th></th>\n",
       "      <th></th>\n",
       "      <th></th>\n",
       "    </tr>\n",
       "  </thead>\n",
       "  <tbody>\n",
       "    <tr>\n",
       "      <th>1</th>\n",
       "      <td>544738868.63</td>\n",
       "      <td>150084018.05</td>\n",
       "      <td>0.28</td>\n",
       "      <td>544.74</td>\n",
       "      <td>150.08</td>\n",
       "    </tr>\n",
       "    <tr>\n",
       "      <th>2</th>\n",
       "      <td>355973012.71</td>\n",
       "      <td>88586723.97</td>\n",
       "      <td>0.25</td>\n",
       "      <td>355.97</td>\n",
       "      <td>88.59</td>\n",
       "    </tr>\n",
       "  </tbody>\n",
       "</table>\n",
       "</div>"
      ],
      "text/plain": [
       "                 Annual revenue  Annual profit  Annual profit margin  \\\n",
       "Location number                                                        \n",
       "1                  544738868.63   150084018.05                  0.28   \n",
       "2                  355973012.71    88586723.97                  0.25   \n",
       "\n",
       "                 Annual revenue in millions  Annual profit in millions  \n",
       "Location number                                                         \n",
       "1                                    544.74                     150.08  \n",
       "2                                    355.97                      88.59  "
      ]
     },
     "execution_count": 12,
     "metadata": {},
     "output_type": "execute_result"
    }
   ],
   "source": [
    "## make easier to read - revenue in billions, profit in millions\n",
    "stores_df['Annual revenue in millions'] = stores_df['Annual revenue'] / 1000000\n",
    "stores_df['Annual profit in millions'] = stores_df['Annual profit'] / 1000000\n",
    "stores_df.head(2)"
   ]
  },
  {
   "cell_type": "markdown",
   "metadata": {},
   "source": [
    "# Part 1 - summary stats & plots"
   ]
  },
  {
   "cell_type": "markdown",
   "metadata": {},
   "source": [
    "### Q1: What is the mean & median annual profit margin of a 'typical' store location?"
   ]
  },
  {
   "cell_type": "code",
   "execution_count": 13,
   "metadata": {},
   "outputs": [
    {
     "data": {
      "text/html": [
       "<div>\n",
       "<style scoped>\n",
       "    .dataframe tbody tr th:only-of-type {\n",
       "        vertical-align: middle;\n",
       "    }\n",
       "\n",
       "    .dataframe tbody tr th {\n",
       "        vertical-align: top;\n",
       "    }\n",
       "\n",
       "    .dataframe thead th {\n",
       "        text-align: right;\n",
       "    }\n",
       "</style>\n",
       "<table border=\"1\" class=\"dataframe\">\n",
       "  <thead>\n",
       "    <tr style=\"text-align: right;\">\n",
       "      <th></th>\n",
       "      <th>Annual revenue</th>\n",
       "      <th>Annual profit</th>\n",
       "      <th>Annual profit margin</th>\n",
       "      <th>Annual revenue in millions</th>\n",
       "      <th>Annual profit in millions</th>\n",
       "    </tr>\n",
       "  </thead>\n",
       "  <tbody>\n",
       "    <tr>\n",
       "      <th>count</th>\n",
       "      <td>333.00</td>\n",
       "      <td>333.00</td>\n",
       "      <td>333.00</td>\n",
       "      <td>333.00</td>\n",
       "      <td>333.00</td>\n",
       "    </tr>\n",
       "    <tr>\n",
       "      <th>mean</th>\n",
       "      <td>361101760.79</td>\n",
       "      <td>95453449.83</td>\n",
       "      <td>0.25</td>\n",
       "      <td>361.10</td>\n",
       "      <td>95.45</td>\n",
       "    </tr>\n",
       "    <tr>\n",
       "      <th>std</th>\n",
       "      <td>188441065.87</td>\n",
       "      <td>63726267.92</td>\n",
       "      <td>0.06</td>\n",
       "      <td>188.44</td>\n",
       "      <td>63.73</td>\n",
       "    </tr>\n",
       "    <tr>\n",
       "      <th>min</th>\n",
       "      <td>78200484.08</td>\n",
       "      <td>-869941.77</td>\n",
       "      <td>-0.01</td>\n",
       "      <td>78.20</td>\n",
       "      <td>-0.87</td>\n",
       "    </tr>\n",
       "    <tr>\n",
       "      <th>25%</th>\n",
       "      <td>238805690.01</td>\n",
       "      <td>52502781.11</td>\n",
       "      <td>0.21</td>\n",
       "      <td>238.81</td>\n",
       "      <td>52.50</td>\n",
       "    </tr>\n",
       "    <tr>\n",
       "      <th>50%</th>\n",
       "      <td>319380364.45</td>\n",
       "      <td>81611260.13</td>\n",
       "      <td>0.26</td>\n",
       "      <td>319.38</td>\n",
       "      <td>81.61</td>\n",
       "    </tr>\n",
       "    <tr>\n",
       "      <th>75%</th>\n",
       "      <td>431326319.47</td>\n",
       "      <td>121161857.26</td>\n",
       "      <td>0.29</td>\n",
       "      <td>431.33</td>\n",
       "      <td>121.16</td>\n",
       "    </tr>\n",
       "    <tr>\n",
       "      <th>max</th>\n",
       "      <td>1200481359.57</td>\n",
       "      <td>378628316.56</td>\n",
       "      <td>0.40</td>\n",
       "      <td>1200.48</td>\n",
       "      <td>378.63</td>\n",
       "    </tr>\n",
       "  </tbody>\n",
       "</table>\n",
       "</div>"
      ],
      "text/plain": [
       "       Annual revenue  Annual profit  Annual profit margin  \\\n",
       "count          333.00         333.00                333.00   \n",
       "mean     361101760.79    95453449.83                  0.25   \n",
       "std      188441065.87    63726267.92                  0.06   \n",
       "min       78200484.08     -869941.77                 -0.01   \n",
       "25%      238805690.01    52502781.11                  0.21   \n",
       "50%      319380364.45    81611260.13                  0.26   \n",
       "75%      431326319.47   121161857.26                  0.29   \n",
       "max     1200481359.57   378628316.56                  0.40   \n",
       "\n",
       "       Annual revenue in millions  Annual profit in millions  \n",
       "count                      333.00                     333.00  \n",
       "mean                       361.10                      95.45  \n",
       "std                        188.44                      63.73  \n",
       "min                         78.20                      -0.87  \n",
       "25%                        238.81                      52.50  \n",
       "50%                        319.38                      81.61  \n",
       "75%                        431.33                     121.16  \n",
       "max                       1200.48                     378.63  "
      ]
     },
     "execution_count": 13,
     "metadata": {},
     "output_type": "execute_result"
    }
   ],
   "source": [
    "## \n",
    "stores_df.describe()"
   ]
  },
  {
   "cell_type": "code",
   "execution_count": 14,
   "metadata": {},
   "outputs": [
    {
     "data": {
      "text/html": [
       "<div>\n",
       "<style scoped>\n",
       "    .dataframe tbody tr th:only-of-type {\n",
       "        vertical-align: middle;\n",
       "    }\n",
       "\n",
       "    .dataframe tbody tr th {\n",
       "        vertical-align: top;\n",
       "    }\n",
       "\n",
       "    .dataframe thead th {\n",
       "        text-align: right;\n",
       "    }\n",
       "</style>\n",
       "<table border=\"1\" class=\"dataframe\">\n",
       "  <thead>\n",
       "    <tr style=\"text-align: right;\">\n",
       "      <th></th>\n",
       "      <th>Annual revenue</th>\n",
       "      <th>Annual profit</th>\n",
       "      <th>Annual profit margin</th>\n",
       "      <th>Annual revenue in millions</th>\n",
       "      <th>Annual profit in millions</th>\n",
       "    </tr>\n",
       "    <tr>\n",
       "      <th>Location number</th>\n",
       "      <th></th>\n",
       "      <th></th>\n",
       "      <th></th>\n",
       "      <th></th>\n",
       "      <th></th>\n",
       "    </tr>\n",
       "  </thead>\n",
       "  <tbody>\n",
       "    <tr>\n",
       "      <th>296</th>\n",
       "      <td>319380364.45</td>\n",
       "      <td>72534272.05</td>\n",
       "      <td>0.23</td>\n",
       "      <td>319.38</td>\n",
       "      <td>72.53</td>\n",
       "    </tr>\n",
       "  </tbody>\n",
       "</table>\n",
       "</div>"
      ],
      "text/plain": [
       "                 Annual revenue  Annual profit  Annual profit margin  \\\n",
       "Location number                                                        \n",
       "296                319380364.45    72534272.05                  0.23   \n",
       "\n",
       "                 Annual revenue in millions  Annual profit in millions  \n",
       "Location number                                                         \n",
       "296                                  319.38                      72.53  "
      ]
     },
     "execution_count": 14,
     "metadata": {},
     "output_type": "execute_result"
    }
   ],
   "source": [
    "stores_df[stores_df['Annual revenue'] == stores_df['Annual revenue'].median()]"
   ]
  },
  {
   "cell_type": "code",
   "execution_count": 15,
   "metadata": {},
   "outputs": [
    {
     "data": {
      "text/plain": [
       "[]"
      ]
     },
     "execution_count": 15,
     "metadata": {},
     "output_type": "execute_result"
    }
   ],
   "source": [
    "## view the spread of the data\n",
    "bplot = stores_df[['Annual revenue in millions', 'Annual profit in millions']].plot(kind='box')\n",
    "bplot.plot()"
   ]
  },
  {
   "cell_type": "code",
   "execution_count": 16,
   "metadata": {},
   "outputs": [
    {
     "data": {
      "image/png": "[encoded data removed]",
      "text/plain": [
       "<Figure size 432x288 with 1 Axes>"
      ]
     },
     "metadata": {
      "needs_background": "light"
     },
     "output_type": "display_data"
    }
   ],
   "source": [
    "bplot2 = stores_df[['Annual profit margin']].plot(kind='box')"
   ]
  },
  {
   "cell_type": "code",
   "execution_count": 17,
   "metadata": {},
   "outputs": [
    {
     "data": {
      "image/png": "[encoded data removed]",
      "text/plain": [
       "<Figure size 432x288 with 1 Axes>"
      ]
     },
     "metadata": {
      "needs_background": "light"
     },
     "output_type": "display_data"
    }
   ],
   "source": [
    "%matplotlib inline\n",
    "import matplotlib.pyplot as plt\n",
    "plt.hist(stores_df['Annual revenue in millions'])\n",
    "\n",
    "plt.xlabel('annual revenue (in millions)',fontsize=15)\n",
    "plt.ylabel('number of stores',fontsize=15)\n",
    "\n",
    "plt.show()"
   ]
  },
  {
   "cell_type": "code",
   "execution_count": 18,
   "metadata": {},
   "outputs": [
    {
     "data": {
      "image/png": "[encoded data removed]",
      "text/plain": [
       "<Figure size 432x288 with 1 Axes>"
      ]
     },
     "metadata": {
      "needs_background": "light"
     },
     "output_type": "display_data"
    }
   ],
   "source": [
    "plt.hist(stores_df['Annual profit in millions'])\n",
    "\n",
    "plt.xlabel('annual profit (in millions)',fontsize=15)\n",
    "plt.ylabel('number of stores',fontsize=15)\n",
    "\n",
    "plt.show()"
   ]
  },
  {
   "cell_type": "code",
   "execution_count": 19,
   "metadata": {},
   "outputs": [
    {
     "data": {
      "image/png": "[encoded data removed]",
      "text/plain": [
       "<Figure size 432x288 with 1 Axes>"
      ]
     },
     "metadata": {
      "needs_background": "light"
     },
     "output_type": "display_data"
    }
   ],
   "source": [
    "plt.hist(stores_df['Annual profit margin'])\n",
    "\n",
    "plt.xlabel('annual profit margin',fontsize=15)\n",
    "plt.ylabel('number of stores',fontsize=15)\n",
    "\n",
    "plt.show()"
   ]
  },
  {
   "cell_type": "code",
   "execution_count": 20,
   "metadata": {},
   "outputs": [
    {
     "data": {
      "text/plain": [
       "NormaltestResult(statistic=31.747208377157122, pvalue=1.2769717598778503e-07)"
      ]
     },
     "execution_count": 20,
     "metadata": {},
     "output_type": "execute_result"
    }
   ],
   "source": [
    "## normality test - does not pass\n",
    "\n",
    "from scipy import stats\n",
    "stats.normaltest(stores_df['Annual profit margin'])"
   ]
  },
  {
   "cell_type": "markdown",
   "metadata": {},
   "source": [
    "The annual profit margin does not appear to be normally distributed"
   ]
  },
  {
   "cell_type": "markdown",
   "metadata": {},
   "source": [
    "## Plotting monthly and quarterly revenue across all stores"
   ]
  },
  {
   "cell_type": "code",
   "execution_count": 21,
   "metadata": {},
   "outputs": [
    {
     "data": {
      "text/plain": [
       "Jan    9.30\n",
       "Feb    9.79\n",
       "Mar   11.59\n",
       "Apr    9.11\n",
       "May    9.35\n",
       "Jun   11.30\n",
       "Jul    9.01\n",
       "Aug    9.63\n",
       "Sep   11.25\n",
       "Oct    9.41\n",
       "Nov    8.98\n",
       "Dec   11.54\n",
       "Name: Gross revenue, dtype: float64"
      ]
     },
     "execution_count": 21,
     "metadata": {},
     "output_type": "execute_result"
    }
   ],
   "source": [
    "## group by month, how does revenue change?\n",
    "\n",
    "## change 1-12 to jan-dec\n",
    "#import calendar\n",
    "#df['Month'] = df['Month'].apply(lambda x: calendar.month_abbr[x])\n",
    "\n",
    "monthly_rev = df.groupby('Month')['Gross revenue'].sum()\n",
    "monthly_rev_in_billions = monthly_rev / 1000000000\n",
    "\n",
    "months = ['Jan', 'Feb', 'Mar', 'Apr', 'May', 'Jun', \n",
    "'Jul', 'Aug', 'Sep', 'Oct', 'Nov', 'Dec']\n",
    "\n",
    "monthly_rev_in_billions.index = months\n",
    "monthly_rev_in_billions"
   ]
  },
  {
   "cell_type": "code",
   "execution_count": 22,
   "metadata": {},
   "outputs": [
    {
     "data": {
      "image/png": "[encoded data removed]",
      "text/plain": [
       "<Figure size 432x288 with 1 Axes>"
      ]
     },
     "metadata": {
      "needs_background": "light"
     },
     "output_type": "display_data"
    }
   ],
   "source": [
    "import matplotlib.pyplot as plt\n",
    "plt.plot(monthly_rev_in_billions, linestyle='--', marker='o', color='b')\n",
    "plt.ylabel('Monthly revenue in billions')\n",
    "plt.ylim(top=14,bottom=0)\n",
    "plt.show()"
   ]
  },
  {
   "cell_type": "code",
   "execution_count": 23,
   "metadata": {},
   "outputs": [
    {
     "name": "stdout",
     "output_type": "stream",
     "text": [
      "0    1\n",
      "1    1\n",
      "2    1\n",
      "3    2\n",
      "4    2\n",
      "Name: Quarter, dtype: int64\n",
      "3991    3\n",
      "3992    3\n",
      "3993    4\n",
      "3994    4\n",
      "3995    4\n",
      "Name: Quarter, dtype: int64\n"
     ]
    }
   ],
   "source": [
    "## same but quarterly - so create a col indicating the quarter\n",
    "import math\n",
    "df['Quarter'] = (df['Month'] - 1)//3 + 1\n",
    "print(df['Quarter'].head())\n",
    "print(df['Quarter'].tail())"
   ]
  },
  {
   "cell_type": "code",
   "execution_count": 24,
   "metadata": {},
   "outputs": [
    {
     "data": {
      "text/plain": [
       "Q1   30.68\n",
       "Q2   29.75\n",
       "Q3   29.88\n",
       "Q4   29.94\n",
       "Name: Gross revenue, dtype: float64"
      ]
     },
     "execution_count": 24,
     "metadata": {},
     "output_type": "execute_result"
    }
   ],
   "source": [
    "qtr_rev = df.groupby('Quarter')['Gross revenue'].sum()\n",
    "qtr_rev_in_billions = qtr_rev / 1000000000\n",
    "\n",
    "quarters = ['Q1', 'Q2', 'Q3', 'Q4']\n",
    "\n",
    "qtr_rev_in_billions.index = quarters\n",
    "qtr_rev_in_billions"
   ]
  },
  {
   "cell_type": "code",
   "execution_count": 25,
   "metadata": {},
   "outputs": [
    {
     "data": {
      "image/png": "[encoded data removed]",
      "text/plain": [
       "<Figure size 432x288 with 1 Axes>"
      ]
     },
     "metadata": {
      "needs_background": "light"
     },
     "output_type": "display_data"
    }
   ],
   "source": [
    "plt.plot(qtr_rev_in_billions, linestyle='--', marker='o', color='b')\n",
    "plt.ylabel('Quarterly revenue in billions')\n",
    "plt.ylim(top=35, bottom=0)\n",
    "plt.show()"
   ]
  },
  {
   "cell_type": "markdown",
   "metadata": {},
   "source": [
    "## Part 2 - data cleaning\n",
    "Some stores are leased, some stores are owned\n",
    "\n",
    "leased stores have higher cost\n",
    "\n",
    "Impute an 'appropriate' rental cost for each owned location\n",
    "\n",
    "rent-adjusted annual profit margin"
   ]
  },
  {
   "cell_type": "code",
   "execution_count": 26,
   "metadata": {},
   "outputs": [
    {
     "data": {
      "text/plain": [
       "0       36.00\n",
       "3420     1.00\n",
       "5200     1.00\n",
       "13080    1.00\n",
       "18290    1.00\n",
       "Name: Rental cost, dtype: float64"
      ]
     },
     "execution_count": 26,
     "metadata": {},
     "output_type": "execute_result"
    }
   ],
   "source": [
    "## how many stores have a low or non-existant rental cost?\n",
    "(df['Rental cost'].value_counts().sort_index() / 12).head()"
   ]
  },
  {
   "cell_type": "code",
   "execution_count": 27,
   "metadata": {},
   "outputs": [
    {
     "data": {
      "text/plain": [
       "140590.0"
      ]
     },
     "execution_count": 27,
     "metadata": {},
     "output_type": "execute_result"
    }
   ],
   "source": [
    "## take these 36 stores with no rental cost, create a new 'assumed rent' col\n",
    "## insert the median rental cost of all stores with a rental cost\n",
    "\n",
    "## get median rent of all locations w/ leases\n",
    "med_rent = df[df['Rental cost'] > 0]['Rental cost'].median()\n",
    "med_rent"
   ]
  },
  {
   "cell_type": "code",
   "execution_count": 28,
   "metadata": {},
   "outputs": [
    {
     "data": {
      "text/plain": [
       "0.00         3564\n",
       "140590.00     432\n",
       "Name: ownership adjustment, dtype: int64"
      ]
     },
     "execution_count": 28,
     "metadata": {},
     "output_type": "execute_result"
    }
   ],
   "source": [
    "df['ownership adjustment'] = 0\n",
    "df.loc[df['Rental cost'] == 0, 'ownership adjustment'] = med_rent\n",
    "df['ownership adjustment'].value_counts()"
   ]
  },
  {
   "cell_type": "code",
   "execution_count": 29,
   "metadata": {},
   "outputs": [
    {
     "data": {
      "text/html": [
       "<div>\n",
       "<style scoped>\n",
       "    .dataframe tbody tr th:only-of-type {\n",
       "        vertical-align: middle;\n",
       "    }\n",
       "\n",
       "    .dataframe tbody tr th {\n",
       "        vertical-align: top;\n",
       "    }\n",
       "\n",
       "    .dataframe thead th {\n",
       "        text-align: right;\n",
       "    }\n",
       "</style>\n",
       "<table border=\"1\" class=\"dataframe\">\n",
       "  <thead>\n",
       "    <tr style=\"text-align: right;\">\n",
       "      <th></th>\n",
       "      <th>Location number</th>\n",
       "      <th>Month</th>\n",
       "      <th>State</th>\n",
       "      <th>Gross revenue</th>\n",
       "      <th>Fixed cost</th>\n",
       "      <th>Variable cost</th>\n",
       "      <th>Rental cost</th>\n",
       "      <th>Number of products</th>\n",
       "      <th>Owned</th>\n",
       "      <th>Total cost</th>\n",
       "      <th>Net profit</th>\n",
       "      <th>Profit margin</th>\n",
       "      <th>Revenue in millions</th>\n",
       "      <th>Profit in millions</th>\n",
       "      <th>Quarter</th>\n",
       "      <th>ownership adjustment</th>\n",
       "      <th>Rent-adjusted net profit</th>\n",
       "      <th>Rent-adjusted profit margin</th>\n",
       "      <th>Rent-adjusted profit in millions</th>\n",
       "    </tr>\n",
       "  </thead>\n",
       "  <tbody>\n",
       "    <tr>\n",
       "      <th>24</th>\n",
       "      <td>3</td>\n",
       "      <td>1</td>\n",
       "      <td>IL</td>\n",
       "      <td>30791018.69</td>\n",
       "      <td>6123108.00</td>\n",
       "      <td>17948338.14</td>\n",
       "      <td>0</td>\n",
       "      <td>4620</td>\n",
       "      <td>True</td>\n",
       "      <td>24071446.14</td>\n",
       "      <td>6719572.55</td>\n",
       "      <td>0.22</td>\n",
       "      <td>30.79</td>\n",
       "      <td>6.72</td>\n",
       "      <td>1</td>\n",
       "      <td>140590.00</td>\n",
       "      <td>6578982.55</td>\n",
       "      <td>0.21</td>\n",
       "      <td>6.58</td>\n",
       "    </tr>\n",
       "    <tr>\n",
       "      <th>25</th>\n",
       "      <td>3</td>\n",
       "      <td>2</td>\n",
       "      <td>IL</td>\n",
       "      <td>23805331.16</td>\n",
       "      <td>5014361.53</td>\n",
       "      <td>13051817.38</td>\n",
       "      <td>0</td>\n",
       "      <td>4620</td>\n",
       "      <td>True</td>\n",
       "      <td>18066178.91</td>\n",
       "      <td>5739152.25</td>\n",
       "      <td>0.24</td>\n",
       "      <td>23.81</td>\n",
       "      <td>5.74</td>\n",
       "      <td>1</td>\n",
       "      <td>140590.00</td>\n",
       "      <td>5598562.25</td>\n",
       "      <td>0.24</td>\n",
       "      <td>5.60</td>\n",
       "    </tr>\n",
       "  </tbody>\n",
       "</table>\n",
       "</div>"
      ],
      "text/plain": [
       "    Location number  Month State  Gross revenue  Fixed cost  Variable cost  \\\n",
       "24                3      1    IL    30791018.69  6123108.00    17948338.14   \n",
       "25                3      2    IL    23805331.16  5014361.53    13051817.38   \n",
       "\n",
       "    Rental cost  Number of products  Owned  Total cost  Net profit  \\\n",
       "24            0                4620   True 24071446.14  6719572.55   \n",
       "25            0                4620   True 18066178.91  5739152.25   \n",
       "\n",
       "    Profit margin  Revenue in millions  Profit in millions  Quarter  \\\n",
       "24           0.22                30.79                6.72        1   \n",
       "25           0.24                23.81                5.74        1   \n",
       "\n",
       "    ownership adjustment  Rent-adjusted net profit  \\\n",
       "24             140590.00                6578982.55   \n",
       "25             140590.00                5598562.25   \n",
       "\n",
       "    Rent-adjusted profit margin  Rent-adjusted profit in millions  \n",
       "24                         0.21                              6.58  \n",
       "25                         0.24                              5.60  "
      ]
     },
     "execution_count": 29,
     "metadata": {},
     "output_type": "execute_result"
    }
   ],
   "source": [
    "df['Rent-adjusted net profit'] = df['Net profit'] - df['ownership adjustment']\n",
    "df['Rent-adjusted profit margin'] = df['Rent-adjusted net profit'] / df['Gross revenue']\n",
    "df['Rent-adjusted profit in millions'] = df['Rent-adjusted net profit'] / 1000000\n",
    "\n",
    "df[df['ownership adjustment'] > 0].head(2)"
   ]
  },
  {
   "cell_type": "code",
   "execution_count": 30,
   "metadata": {},
   "outputs": [
    {
     "data": {
      "text/plain": [
       "State\n",
       "CA    131360\n",
       "CO    130370\n",
       "GA    131070\n",
       "IL    117970\n",
       "NJ    137525\n",
       "TX    133890\n",
       "WA    151555\n",
       "Name: Rental cost, dtype: int64"
      ]
     },
     "execution_count": 30,
     "metadata": {},
     "output_type": "execute_result"
    }
   ],
   "source": [
    "## what is the rental cost per state? \n",
    "df.groupby('State')['Rental cost'].median()"
   ]
  },
  {
   "cell_type": "code",
   "execution_count": 31,
   "metadata": {},
   "outputs": [
    {
     "data": {
      "text/plain": [
       "State\n",
       "CA    63.00\n",
       "CO    15.00\n",
       "GA    54.00\n",
       "IL    54.00\n",
       "NJ    32.00\n",
       "TX   101.00\n",
       "WA    14.00\n",
       "Name: State, dtype: float64"
      ]
     },
     "execution_count": 31,
     "metadata": {},
     "output_type": "execute_result"
    }
   ],
   "source": [
    "## do WA and IL have enough samples/stores to adjust for?\n",
    "df.groupby('State')['State'].count() / 12"
   ]
  },
  {
   "cell_type": "code",
   "execution_count": 32,
   "metadata": {},
   "outputs": [
    {
     "data": {
      "text/plain": [
       "-0.87    1\n",
       "9.69     1\n",
       "9.92     1\n",
       "Name: Annual profit in millions, dtype: int64"
      ]
     },
     "execution_count": 32,
     "metadata": {},
     "output_type": "execute_result"
    }
   ],
   "source": [
    "## 118k, 130-137k, 151k - values are similar enough to apply 1 scalar adjustment figure\n",
    "## 360K (30K * 12) is not large enough to significantly impact annual profits\n",
    "## which are in range of 10-100M\n",
    "stores_df['Annual profit in millions'].value_counts().sort_index().head(3)"
   ]
  },
  {
   "cell_type": "code",
   "execution_count": 33,
   "metadata": {},
   "outputs": [
    {
     "data": {
      "text/html": [
       "<div>\n",
       "<style scoped>\n",
       "    .dataframe tbody tr th:only-of-type {\n",
       "        vertical-align: middle;\n",
       "    }\n",
       "\n",
       "    .dataframe tbody tr th {\n",
       "        vertical-align: top;\n",
       "    }\n",
       "\n",
       "    .dataframe thead th {\n",
       "        text-align: right;\n",
       "    }\n",
       "</style>\n",
       "<table border=\"1\" class=\"dataframe\">\n",
       "  <thead>\n",
       "    <tr style=\"text-align: right;\">\n",
       "      <th></th>\n",
       "      <th>Annual revenue</th>\n",
       "      <th>Annual profit</th>\n",
       "      <th>Annual profit margin</th>\n",
       "      <th>Annual revenue in millions</th>\n",
       "      <th>Annual profit in millions</th>\n",
       "      <th>Rent-adjusted annual profit</th>\n",
       "      <th>Rent-adjusted annual profit in millions</th>\n",
       "      <th>Rent-adjusted annual profit margin</th>\n",
       "    </tr>\n",
       "    <tr>\n",
       "      <th>Location number</th>\n",
       "      <th></th>\n",
       "      <th></th>\n",
       "      <th></th>\n",
       "      <th></th>\n",
       "      <th></th>\n",
       "      <th></th>\n",
       "      <th></th>\n",
       "      <th></th>\n",
       "    </tr>\n",
       "  </thead>\n",
       "  <tbody>\n",
       "    <tr>\n",
       "      <th>1</th>\n",
       "      <td>544738868.63</td>\n",
       "      <td>150084018.05</td>\n",
       "      <td>0.28</td>\n",
       "      <td>544.74</td>\n",
       "      <td>150.08</td>\n",
       "      <td>150084018.05</td>\n",
       "      <td>150.08</td>\n",
       "      <td>0.28</td>\n",
       "    </tr>\n",
       "    <tr>\n",
       "      <th>2</th>\n",
       "      <td>355973012.71</td>\n",
       "      <td>88586723.97</td>\n",
       "      <td>0.25</td>\n",
       "      <td>355.97</td>\n",
       "      <td>88.59</td>\n",
       "      <td>88586723.97</td>\n",
       "      <td>88.59</td>\n",
       "      <td>0.25</td>\n",
       "    </tr>\n",
       "    <tr>\n",
       "      <th>3</th>\n",
       "      <td>331771805.46</td>\n",
       "      <td>82646179.91</td>\n",
       "      <td>0.25</td>\n",
       "      <td>331.77</td>\n",
       "      <td>82.65</td>\n",
       "      <td>80959099.91</td>\n",
       "      <td>80.96</td>\n",
       "      <td>0.24</td>\n",
       "    </tr>\n",
       "  </tbody>\n",
       "</table>\n",
       "</div>"
      ],
      "text/plain": [
       "                 Annual revenue  Annual profit  Annual profit margin  \\\n",
       "Location number                                                        \n",
       "1                  544738868.63   150084018.05                  0.28   \n",
       "2                  355973012.71    88586723.97                  0.25   \n",
       "3                  331771805.46    82646179.91                  0.25   \n",
       "\n",
       "                 Annual revenue in millions  Annual profit in millions  \\\n",
       "Location number                                                          \n",
       "1                                    544.74                     150.08   \n",
       "2                                    355.97                      88.59   \n",
       "3                                    331.77                      82.65   \n",
       "\n",
       "                 Rent-adjusted annual profit  \\\n",
       "Location number                                \n",
       "1                               150084018.05   \n",
       "2                                88586723.97   \n",
       "3                                80959099.91   \n",
       "\n",
       "                 Rent-adjusted annual profit in millions  \\\n",
       "Location number                                            \n",
       "1                                                 150.08   \n",
       "2                                                  88.59   \n",
       "3                                                  80.96   \n",
       "\n",
       "                 Rent-adjusted annual profit margin  \n",
       "Location number                                      \n",
       "1                                              0.28  \n",
       "2                                              0.25  \n",
       "3                                              0.24  "
      ]
     },
     "execution_count": 33,
     "metadata": {},
     "output_type": "execute_result"
    }
   ],
   "source": [
    "## rent-adjusted annual profit margin\n",
    "stores_df['Rent-adjusted annual profit'] = df.groupby('Location number')['Rent-adjusted net profit'].sum()\n",
    "stores_df['Rent-adjusted annual profit in millions'] = stores_df['Rent-adjusted annual profit'] / 1000000\n",
    "stores_df['Rent-adjusted annual profit margin'] = stores_df['Rent-adjusted annual profit'] / stores_df['Annual revenue']\n",
    "stores_df.head(3)"
   ]
  },
  {
   "cell_type": "markdown",
   "metadata": {},
   "source": [
    "Can see that store 3 had an rent-adjustment from .25 to .24 profit margin"
   ]
  },
  {
   "cell_type": "markdown",
   "metadata": {},
   "source": [
    "## Part 3 - id factors that led to higher performace\n",
    "\n",
    "Maximize profit margin at *each location*.\n",
    "\n",
    "Write an e-mail describing findings, create 2 slides to walk through analysis"
   ]
  },
  {
   "cell_type": "code",
   "execution_count": 34,
   "metadata": {},
   "outputs": [
    {
     "data": {
      "text/plain": [
       "Rent-adjusted profit margin        1.00\n",
       "Profit margin                      1.00\n",
       "Profit in millions                 0.66\n",
       "Net profit                         0.66\n",
       "Rent-adjusted net profit           0.66\n",
       "Rent-adjusted profit in millions   0.66\n",
       "Number of products                 0.63\n",
       "Gross revenue                      0.46\n",
       "Revenue in millions                0.46\n",
       "Variable cost                      0.36\n",
       "Total cost                         0.33\n",
       "Fixed cost                         0.22\n",
       "ownership adjustment               0.15\n",
       "Owned                              0.15\n",
       "Location number                    0.07\n",
       "Rental cost                        0.06\n",
       "Month                              0.02\n",
       "Quarter                            0.01\n",
       "Name: Rent-adjusted profit margin, dtype: float64"
      ]
     },
     "execution_count": 34,
     "metadata": {},
     "output_type": "execute_result"
    }
   ],
   "source": [
    "## look at correlations between the profit margin and potential factors\n",
    "df.corr()['Rent-adjusted profit margin'].sort_values(ascending=False)"
   ]
  },
  {
   "cell_type": "markdown",
   "metadata": {},
   "source": [
    "Other than factors used to calculate profit margin, the factor with the highest correlation (.66) is 'Number of products'\n",
    "State is not included, would need to add dummy variable to see the correlation"
   ]
  },
  {
   "cell_type": "code",
   "execution_count": 35,
   "metadata": {},
   "outputs": [
    {
     "name": "stderr",
     "output_type": "stream",
     "text": [
      "/Users/wainman/anaconda3/lib/python3.7/site-packages/ipykernel_launcher.py:4: DeprecationWarning: \n",
      ".ix is deprecated. Please use\n",
      ".loc for label based indexing or\n",
      ".iloc for positional indexing\n",
      "\n",
      "See the documentation here:\n",
      "http://pandas.pydata.org/pandas-docs/stable/indexing.html#ix-indexer-is-deprecated\n",
      "  after removing the cwd from sys.path.\n"
     ]
    },
    {
     "data": {
      "text/html": [
       "<div>\n",
       "<style scoped>\n",
       "    .dataframe tbody tr th:only-of-type {\n",
       "        vertical-align: middle;\n",
       "    }\n",
       "\n",
       "    .dataframe tbody tr th {\n",
       "        vertical-align: top;\n",
       "    }\n",
       "\n",
       "    .dataframe thead th {\n",
       "        text-align: right;\n",
       "    }\n",
       "</style>\n",
       "<table border=\"1\" class=\"dataframe\">\n",
       "  <thead>\n",
       "    <tr style=\"text-align: right;\">\n",
       "      <th></th>\n",
       "      <th>Rent-adjusted profit in millions</th>\n",
       "      <th>CA</th>\n",
       "      <th>CO</th>\n",
       "      <th>GA</th>\n",
       "      <th>IL</th>\n",
       "      <th>NJ</th>\n",
       "      <th>TX</th>\n",
       "      <th>WA</th>\n",
       "    </tr>\n",
       "  </thead>\n",
       "  <tbody>\n",
       "    <tr>\n",
       "      <th>0</th>\n",
       "      <td>14.77</td>\n",
       "      <td>0</td>\n",
       "      <td>0</td>\n",
       "      <td>0</td>\n",
       "      <td>0</td>\n",
       "      <td>0</td>\n",
       "      <td>1</td>\n",
       "      <td>0</td>\n",
       "    </tr>\n",
       "    <tr>\n",
       "      <th>1</th>\n",
       "      <td>12.04</td>\n",
       "      <td>0</td>\n",
       "      <td>0</td>\n",
       "      <td>0</td>\n",
       "      <td>0</td>\n",
       "      <td>0</td>\n",
       "      <td>1</td>\n",
       "      <td>0</td>\n",
       "    </tr>\n",
       "    <tr>\n",
       "      <th>2</th>\n",
       "      <td>20.09</td>\n",
       "      <td>0</td>\n",
       "      <td>0</td>\n",
       "      <td>0</td>\n",
       "      <td>0</td>\n",
       "      <td>0</td>\n",
       "      <td>1</td>\n",
       "      <td>0</td>\n",
       "    </tr>\n",
       "  </tbody>\n",
       "</table>\n",
       "</div>"
      ],
      "text/plain": [
       "   Rent-adjusted profit in millions  CA  CO  GA  IL  NJ  TX  WA\n",
       "0                             14.77   0   0   0   0   0   1   0\n",
       "1                             12.04   0   0   0   0   0   1   0\n",
       "2                             20.09   0   0   0   0   0   1   0"
      ]
     },
     "execution_count": 35,
     "metadata": {},
     "output_type": "execute_result"
    }
   ],
   "source": [
    "dummyCols=pd.get_dummies(df['State'])\n",
    "if 'CA' not in df.columns:\n",
    "    df = df.join(dummyCols)\n",
    "df.ix[:2,-8:]"
   ]
  },
  {
   "cell_type": "code",
   "execution_count": 36,
   "metadata": {},
   "outputs": [
    {
     "data": {
      "text/plain": [
       "<matplotlib.axes._subplots.AxesSubplot at 0x1a1d63bc88>"
      ]
     },
     "execution_count": 36,
     "metadata": {},
     "output_type": "execute_result"
    },
    {
     "data": {
      "image/png": "[encoded data removed]",
      "text/plain": [
       "<Figure size 432x288 with 1 Axes>"
      ]
     },
     "metadata": {
      "needs_background": "light"
     },
     "output_type": "display_data"
    }
   ],
   "source": [
    "df[['State', \n",
    "    'Rent-adjusted profit margin']].boxplot(by='State')"
   ]
  },
  {
   "cell_type": "code",
   "execution_count": 37,
   "metadata": {},
   "outputs": [
    {
     "data": {
      "text/plain": [
       "Rent-adjusted profit margin         1.00\n",
       "Profit margin                       1.00\n",
       "Profit in millions                  0.66\n",
       "Net profit                          0.66\n",
       "Rent-adjusted net profit            0.66\n",
       "Rent-adjusted profit in millions    0.66\n",
       "Number of products                  0.63\n",
       "Gross revenue                       0.46\n",
       "Revenue in millions                 0.46\n",
       "Variable cost                       0.36\n",
       "Total cost                          0.33\n",
       "TX                                  0.25\n",
       "Fixed cost                          0.22\n",
       "ownership adjustment                0.15\n",
       "Owned                               0.15\n",
       "Location number                     0.07\n",
       "Rental cost                         0.06\n",
       "CA                                  0.05\n",
       "Month                               0.02\n",
       "IL                                  0.02\n",
       "CO                                  0.02\n",
       "Quarter                             0.01\n",
       "WA                                 -0.00\n",
       "NJ                                 -0.21\n",
       "GA                                 -0.23\n",
       "Name: Rent-adjusted profit margin, dtype: float64"
      ]
     },
     "execution_count": 37,
     "metadata": {},
     "output_type": "execute_result"
    }
   ],
   "source": [
    "## look at correlations between the profit margin and these new state cols\n",
    "df.corr()['Rent-adjusted profit margin'].sort_values(ascending=False)\n"
   ]
  },
  {
   "cell_type": "markdown",
   "metadata": {},
   "source": [
    "TX, GA, NJ have some correlation with profit margin, but less than variable cost.\n",
    "Much less than 'Number of products'.\n",
    "Short of advising potentially pricy relocations, should focus on maximizing profit margin of each store where it is."
   ]
  },
  {
   "cell_type": "code",
   "execution_count": 38,
   "metadata": {},
   "outputs": [
    {
     "data": {
      "text/plain": [
       "Number of products                  1.00\n",
       "Profit margin                       0.63\n",
       "Rent-adjusted profit margin         0.63\n",
       "Net profit                          0.54\n",
       "Profit in millions                  0.54\n",
       "Rent-adjusted net profit            0.54\n",
       "Rent-adjusted profit in millions    0.54\n",
       "Gross revenue                       0.45\n",
       "Revenue in millions                 0.45\n",
       "ownership adjustment                0.42\n",
       "Owned                               0.42\n",
       "Variable cost                       0.40\n",
       "Total cost                          0.38\n",
       "Fixed cost                          0.32\n",
       "IL                                  0.08\n",
       "Location number                     0.03\n",
       "CO                                  0.02\n",
       "TX                                  0.01\n",
       "Quarter                             0.00\n",
       "Month                               0.00\n",
       "GA                                 -0.01\n",
       "NJ                                 -0.03\n",
       "CA                                 -0.04\n",
       "WA                                 -0.06\n",
       "Rental cost                        -0.22\n",
       "Name: Number of products, dtype: float64"
      ]
     },
     "execution_count": 38,
     "metadata": {},
     "output_type": "execute_result"
    }
   ],
   "source": [
    "## are these states correlated w/ profit margin\n",
    "## because they happen to have a lot of products?\n",
    "df.corr()['Number of products'].sort_values(ascending=False)"
   ]
  },
  {
   "cell_type": "code",
   "execution_count": 39,
   "metadata": {},
   "outputs": [
    {
     "data": {
      "text/plain": [
       "TX                                  1.00\n",
       "Rent-adjusted profit margin         0.25\n",
       "Profit margin                       0.25\n",
       "Rent-adjusted profit in millions    0.21\n",
       "Rent-adjusted net profit            0.21\n",
       "Net profit                          0.21\n",
       "Profit in millions                  0.21\n",
       "Revenue in millions                 0.14\n",
       "Gross revenue                       0.14\n",
       "Variable cost                       0.10\n",
       "Total cost                          0.10\n",
       "Fixed cost                          0.09\n",
       "Location number                     0.08\n",
       "Rental cost                         0.07\n",
       "Number of products                  0.01\n",
       "Owned                               0.00\n",
       "ownership adjustment                0.00\n",
       "Quarter                             0.00\n",
       "Month                              -0.00\n",
       "WA                                 -0.14\n",
       "CO                                 -0.14\n",
       "NJ                                 -0.22\n",
       "GA                                 -0.29\n",
       "IL                                 -0.29\n",
       "CA                                 -0.32\n",
       "Name: TX, dtype: float64"
      ]
     },
     "execution_count": 39,
     "metadata": {},
     "output_type": "execute_result"
    }
   ],
   "source": [
    "## not the case. what might TX be correlated to?\n",
    "df.corr()['TX'].sort_values(ascending=False)"
   ]
  },
  {
   "cell_type": "markdown",
   "metadata": {},
   "source": [
    "Very weak correlation with other non-dummy factors.\n",
    "\n",
    "Going to start with 1 predictor, build from there if necessary"
   ]
  },
  {
   "cell_type": "code",
   "execution_count": 40,
   "metadata": {},
   "outputs": [
    {
     "data": {
      "text/plain": [
       "<matplotlib.axes._subplots.AxesSubplot at 0x1a1d855dd8>"
      ]
     },
     "execution_count": 40,
     "metadata": {},
     "output_type": "execute_result"
    },
    {
     "data": {
      "image/png": "[encoded data removed]",
      "text/plain": [
       "<Figure size 432x288 with 1 Axes>"
      ]
     },
     "metadata": {
      "needs_background": "light"
     },
     "output_type": "display_data"
    }
   ],
   "source": [
    "## plot 'num of products' to profit margin\n",
    "## make sure stores_df is the only source for factors and target variable \n",
    "stores_df['Number of products'] = df.groupby('Location number')['Number of products'].mean()\n",
    "#print(stores_df['Number of products'].dtype)\n",
    "\n",
    "stores_df.plot.scatter(x='Number of products',\n",
    "                y='Rent-adjusted annual profit margin')"
   ]
  },
  {
   "cell_type": "markdown",
   "metadata": {},
   "source": [
    "Looks like a strong linear relationship"
   ]
  },
  {
   "cell_type": "markdown",
   "metadata": {},
   "source": [
    "The TX profit margin is significantly higher than the NJ one. State may be worth factoring in"
   ]
  },
  {
   "cell_type": "code",
   "execution_count": 41,
   "metadata": {},
   "outputs": [
    {
     "name": "stdout",
     "output_type": "stream",
     "text": [
      "(333, 1)\n",
      "(333, 1)\n"
     ]
    }
   ],
   "source": [
    "X=stores_df[['Number of products']]\n",
    "y=stores_df[['Rent-adjusted annual profit margin']]\n",
    "\n",
    "print(X.shape)\n",
    "print(y.shape)"
   ]
  },
  {
   "cell_type": "code",
   "execution_count": 42,
   "metadata": {},
   "outputs": [],
   "source": [
    "from sklearn.model_selection import train_test_split\n",
    "\n",
    "# 35& of the 322 stores go into the testing bucket\n",
    "X_train, X_test, y_train, y_test = train_test_split(X, y,\n",
    "                                                   test_size = 0.35,\n",
    "                                                    random_state=99)\n",
    "## create and train model\n",
    "from sklearn.linear_model import LinearRegression\n",
    "lm = LinearRegression()\n",
    "lm.fit(X_train,y_train)\n",
    "y_pred = lm.predict(X_test)"
   ]
  },
  {
   "cell_type": "code",
   "execution_count": 43,
   "metadata": {},
   "outputs": [
    {
     "data": {
      "text/html": [
       "<div>\n",
       "<style scoped>\n",
       "    .dataframe tbody tr th:only-of-type {\n",
       "        vertical-align: middle;\n",
       "    }\n",
       "\n",
       "    .dataframe tbody tr th {\n",
       "        vertical-align: top;\n",
       "    }\n",
       "\n",
       "    .dataframe thead th {\n",
       "        text-align: right;\n",
       "    }\n",
       "</style>\n",
       "<table border=\"1\" class=\"dataframe\">\n",
       "  <thead>\n",
       "    <tr style=\"text-align: right;\">\n",
       "      <th></th>\n",
       "      <th>actual</th>\n",
       "      <th>predicted</th>\n",
       "      <th>baseline prediction</th>\n",
       "    </tr>\n",
       "    <tr>\n",
       "      <th>Location number</th>\n",
       "      <th></th>\n",
       "      <th></th>\n",
       "      <th></th>\n",
       "    </tr>\n",
       "  </thead>\n",
       "  <tbody>\n",
       "    <tr>\n",
       "      <th>331</th>\n",
       "      <td>0.26</td>\n",
       "      <td>0.29</td>\n",
       "      <td>0.26</td>\n",
       "    </tr>\n",
       "    <tr>\n",
       "      <th>47</th>\n",
       "      <td>0.16</td>\n",
       "      <td>0.20</td>\n",
       "      <td>0.26</td>\n",
       "    </tr>\n",
       "    <tr>\n",
       "      <th>270</th>\n",
       "      <td>0.24</td>\n",
       "      <td>0.24</td>\n",
       "      <td>0.26</td>\n",
       "    </tr>\n",
       "  </tbody>\n",
       "</table>\n",
       "</div>"
      ],
      "text/plain": [
       "                 actual  predicted  baseline prediction\n",
       "Location number                                        \n",
       "331                0.26       0.29                 0.26\n",
       "47                 0.16       0.20                 0.26\n",
       "270                0.24       0.24                 0.26"
      ]
     },
     "execution_count": 43,
     "metadata": {},
     "output_type": "execute_result"
    }
   ],
   "source": [
    "## create table showing real target data, predicted target data, baseline guess\n",
    "display = y_test.copy()\n",
    "if 'actual' not in display.columns:\n",
    "    display.rename({'Rent-adjusted annual profit margin':'actual'}, axis=1, inplace=True)\n",
    "display['predicted'] = y_pred\n",
    "display['baseline prediction'] = display['actual'].median()\n",
    "display.head(3)"
   ]
  },
  {
   "cell_type": "code",
   "execution_count": 44,
   "metadata": {},
   "outputs": [
    {
     "data": {
      "image/png": "[encoded data removed]",
      "text/plain": [
       "<Figure size 432x288 with 1 Axes>"
      ]
     },
     "metadata": {
      "needs_background": "light"
     },
     "output_type": "display_data"
    }
   ],
   "source": [
    "## visualize the fit of our model\n",
    "## real pts\n",
    "plt.scatter(X_test, display['actual'])\n",
    "## line of fit\n",
    "plt.plot(X_train, lm.predict(X_train), color='red')\n",
    "plt.ylabel('adjusted profit margin')\n",
    "plt.xlabel('number of products')\n",
    "plt.show()"
   ]
  },
  {
   "cell_type": "markdown",
   "metadata": {},
   "source": [
    "We can see that the model guesses too high of a profit for stores with few (<4350) products.\n",
    "\n",
    "This is because of the one extreme outlier (3800 products, 0 profit) in the training set. It is the only data point beyond 3.25 standard deviations from the mean number of products. (It's 5.2 standard deviations away). It can be dropped to improve the fit (without worry of overfitting)."
   ]
  },
  {
   "cell_type": "code",
   "execution_count": 45,
   "metadata": {},
   "outputs": [
    {
     "name": "stderr",
     "output_type": "stream",
     "text": [
      "/Users/wainman/anaconda3/lib/python3.7/site-packages/ipykernel_launcher.py:1: SettingWithCopyWarning: \n",
      "A value is trying to be set on a copy of a slice from a DataFrame.\n",
      "Try using .loc[row_indexer,col_indexer] = value instead\n",
      "\n",
      "See the caveats in the documentation: http://pandas.pydata.org/pandas-docs/stable/indexing.html#indexing-view-versus-copy\n",
      "  \"\"\"Entry point for launching an IPython kernel.\n"
     ]
    },
    {
     "data": {
      "text/plain": [
       "Location number\n",
       "157   -5.19\n",
       "313   -3.23\n",
       "318   -2.91\n",
       "291   -2.74\n",
       "Name: zscore, dtype: float64"
      ]
     },
     "execution_count": 45,
     "metadata": {},
     "output_type": "execute_result"
    }
   ],
   "source": [
    "X['zscore'] = stats.zscore(X)\n",
    "X['zscore'].sort_values().head(4)"
   ]
  },
  {
   "cell_type": "code",
   "execution_count": 46,
   "metadata": {},
   "outputs": [
    {
     "name": "stdout",
     "output_type": "stream",
     "text": [
      "(332, 1) (332, 1)\n"
     ]
    }
   ],
   "source": [
    "##remove that col that helped id outlier\n",
    "X = X.drop(columns='zscore')\n",
    "\n",
    "## drop outlier\n",
    "from scipy import stats\n",
    "\n",
    "stores_df = stores_df.drop(157, axis=0)\n",
    "X = stores_df[['Number of products']].copy()\n",
    "y = stores_df[['Rent-adjusted annual profit margin']].copy()\n",
    "\n",
    "print(X.shape, y.shape)"
   ]
  },
  {
   "cell_type": "code",
   "execution_count": 47,
   "metadata": {},
   "outputs": [
    {
     "data": {
      "text/plain": [
       "<matplotlib.collections.PathCollection at 0x11a6ec780>"
      ]
     },
     "execution_count": 47,
     "metadata": {},
     "output_type": "execute_result"
    },
    {
     "data": {
      "image/png": "[encoded data removed]",
      "text/plain": [
       "<Figure size 432x288 with 1 Axes>"
      ]
     },
     "metadata": {
      "needs_background": "light"
     },
     "output_type": "display_data"
    }
   ],
   "source": [
    "plt.scatter(X,y)"
   ]
  },
  {
   "cell_type": "code",
   "execution_count": 48,
   "metadata": {},
   "outputs": [
    {
     "data": {
      "image/png": "[encoded data removed]",
      "text/plain": [
       "<Figure size 432x288 with 1 Axes>"
      ]
     },
     "metadata": {
      "needs_background": "light"
     },
     "output_type": "display_data"
    }
   ],
   "source": [
    "## fit model better\n",
    "X_train, X_test, y_train, y_test = train_test_split(X, y,\n",
    "                                                   test_size = 0.4,\n",
    "                                                    random_state=4)\n",
    "## create and train model\n",
    "from sklearn.linear_model import LinearRegression\n",
    "mod = LinearRegression()\n",
    "mod.fit(X_train,y_train)\n",
    "y_pred = mod.predict(X_test)\n",
    "\n",
    "##plot\n",
    "plt.scatter(X_test, y_test)\n",
    "## line of fit\n",
    "plt.plot(X_train, mod.predict(X_train), color='red')\n",
    "plt.ylabel('adjusted profit margin')\n",
    "plt.xlabel('number of products')\n",
    "plt.show()"
   ]
  },
  {
   "cell_type": "markdown",
   "metadata": {},
   "source": [
    "### Establish Basline Metrics for model(s) to have to beat\n",
    "Naive guess: for every store in the test set, guess the profit margin to be the median. \n",
    "\n",
    "What metric do we look at to evaluate model, and how does this baseline guess perform compared to the model?"
   ]
  },
  {
   "cell_type": "code",
   "execution_count": 49,
   "metadata": {},
   "outputs": [
    {
     "data": {
      "text/plain": [
       "Location number\n",
       "197   0.26\n",
       "124   0.26\n",
       "Name: baseline prediction, dtype: float64"
      ]
     },
     "execution_count": 49,
     "metadata": {},
     "output_type": "execute_result"
    }
   ],
   "source": [
    "display = y_test.copy()\n",
    "if 'actual' not in display.columns:\n",
    "    display.rename({'Rent-adjusted annual profit margin':'actual'}, axis=1, inplace=True)\n",
    "display['predicted'] = y_pred\n",
    "display['baseline prediction'] = display['actual'].median()\n",
    "display['baseline prediction'].head(2)"
   ]
  },
  {
   "cell_type": "code",
   "execution_count": 50,
   "metadata": {},
   "outputs": [
    {
     "name": "stdout",
     "output_type": "stream",
     "text": [
      "baseline: 0.04556862895291817 \n",
      "model:    0.03003786540855488\n"
     ]
    }
   ],
   "source": [
    "from sklearn.metrics import mean_absolute_error\n",
    "baseline_mae = mean_absolute_error(display['actual'],\n",
    "                                   display['baseline prediction'])\n",
    "model_mae = mean_absolute_error(display['actual'],\n",
    "                                   display['predicted'])\n",
    "print('baseline:', baseline_mae, '\\nmodel:   ', model_mae)"
   ]
  },
  {
   "cell_type": "code",
   "execution_count": 51,
   "metadata": {},
   "outputs": [
    {
     "data": {
      "text/plain": [
       "0.11544893913893503"
      ]
     },
     "execution_count": 51,
     "metadata": {},
     "output_type": "execute_result"
    }
   ],
   "source": [
    "model_mae / display['actual'].median()"
   ]
  },
  {
   "cell_type": "markdown",
   "metadata": {},
   "source": [
    "So the model does reduce the Mean Average Error.\n",
    "\n",
    "The Mean Average Error is 11.5% of a naive guess. Ok, not great"
   ]
  },
  {
   "cell_type": "code",
   "execution_count": 52,
   "metadata": {},
   "outputs": [
    {
     "name": "stdout",
     "output_type": "stream",
     "text": [
      "Mean squared error: Rent-adjusted annual profit margin   0.18\n",
      "dtype: float64\n",
      "R²: 0.6255599022691998\n"
     ]
    }
   ],
   "source": [
    "import numpy as np\n",
    "print(\"Mean squared error:\",\n",
    "    np.mean((mod.predict(X) - y ** 2)))\n",
    "print('R²:',mod.score(X, y))"
   ]
  },
  {
   "cell_type": "markdown",
   "metadata": {},
   "source": [
    "R2 was only marginally better than the first model.\n",
    "\n",
    "To summarize, far and away the largest driver for success is the number of products a store has available."
   ]
  },
  {
   "cell_type": "code",
   "execution_count": 53,
   "metadata": {},
   "outputs": [
    {
     "name": "stdout",
     "output_type": "stream",
     "text": [
      "Mean squared error: Rent-adjusted annual profit margin   0.18\n",
      "dtype: float64\n",
      "R²: 0.6246897156310562\n"
     ]
    }
   ],
   "source": [
    "import numpy as np\n",
    "print(\"Mean squared error:\",\n",
    "    np.mean((lm.predict(X) - y ** 2)))\n",
    "print('R²:',lm.score(X, y))"
   ]
  },
  {
   "cell_type": "code",
   "execution_count": 54,
   "metadata": {},
   "outputs": [
    {
     "name": "stdout",
     "output_type": "stream",
     "text": [
      "margin =  [-1.48454146] + [[0.00038417]] * number of products\n"
     ]
    }
   ],
   "source": [
    "# The coefficients\n",
    "print('margin = ', mod.intercept_, '+', mod.coef_ ,'* number of products')\n"
   ]
  },
  {
   "cell_type": "code",
   "execution_count": 55,
   "metadata": {},
   "outputs": [
    {
     "name": "stdout",
     "output_type": "stream",
     "text": [
      "margin =  [-1.33183338] + [[0.00035044]] * number of products\n"
     ]
    }
   ],
   "source": [
    "print('margin = ', lm.intercept_, '+', lm.coef_ ,'* number of products')\n"
   ]
  },
  {
   "cell_type": "code",
   "execution_count": 56,
   "metadata": {},
   "outputs": [
    {
     "data": {
      "text/plain": [
       "Number of products    4452\n",
       "Name: 1, dtype: int64"
      ]
     },
     "execution_count": 56,
     "metadata": {},
     "output_type": "execute_result"
    }
   ],
   "source": [
    "X.iloc[0]"
   ]
  },
  {
   "cell_type": "code",
   "execution_count": 57,
   "metadata": {},
   "outputs": [
    {
     "data": {
      "text/plain": [
       "array([[0.22834498]])"
      ]
     },
     "execution_count": 57,
     "metadata": {},
     "output_type": "execute_result"
    }
   ],
   "source": [
    "lm.predict([X.iloc[0]])"
   ]
  },
  {
   "cell_type": "code",
   "execution_count": 58,
   "metadata": {},
   "outputs": [
    {
     "data": {
      "text/html": [
       "<div>\n",
       "<style scoped>\n",
       "    .dataframe tbody tr th:only-of-type {\n",
       "        vertical-align: middle;\n",
       "    }\n",
       "\n",
       "    .dataframe tbody tr th {\n",
       "        vertical-align: top;\n",
       "    }\n",
       "\n",
       "    .dataframe thead th {\n",
       "        text-align: right;\n",
       "    }\n",
       "</style>\n",
       "<table border=\"1\" class=\"dataframe\">\n",
       "  <thead>\n",
       "    <tr style=\"text-align: right;\">\n",
       "      <th></th>\n",
       "      <th>Number of products</th>\n",
       "      <th>CA</th>\n",
       "      <th>CO</th>\n",
       "      <th>GA</th>\n",
       "      <th>IL</th>\n",
       "      <th>NJ</th>\n",
       "      <th>TX</th>\n",
       "      <th>WA</th>\n",
       "    </tr>\n",
       "    <tr>\n",
       "      <th>Location number</th>\n",
       "      <th></th>\n",
       "      <th></th>\n",
       "      <th></th>\n",
       "      <th></th>\n",
       "      <th></th>\n",
       "      <th></th>\n",
       "      <th></th>\n",
       "      <th></th>\n",
       "    </tr>\n",
       "  </thead>\n",
       "  <tbody>\n",
       "    <tr>\n",
       "      <th>1</th>\n",
       "      <td>4452</td>\n",
       "      <td>0</td>\n",
       "      <td>0</td>\n",
       "      <td>0</td>\n",
       "      <td>0</td>\n",
       "      <td>0</td>\n",
       "      <td>1</td>\n",
       "      <td>0</td>\n",
       "    </tr>\n",
       "    <tr>\n",
       "      <th>2</th>\n",
       "      <td>4502</td>\n",
       "      <td>0</td>\n",
       "      <td>0</td>\n",
       "      <td>0</td>\n",
       "      <td>0</td>\n",
       "      <td>0</td>\n",
       "      <td>1</td>\n",
       "      <td>0</td>\n",
       "    </tr>\n",
       "  </tbody>\n",
       "</table>\n",
       "</div>"
      ],
      "text/plain": [
       "                 Number of products  CA  CO  GA  IL  NJ  TX  WA\n",
       "Location number                                                \n",
       "1                              4452   0   0   0   0   0   1   0\n",
       "2                              4502   0   0   0   0   0   1   0"
      ]
     },
     "execution_count": 58,
     "metadata": {},
     "output_type": "execute_result"
    }
   ],
   "source": [
    "## add in states\n",
    "X = X.join(dummyCols)\n",
    "X.head(2)"
   ]
  },
  {
   "cell_type": "code",
   "execution_count": 59,
   "metadata": {},
   "outputs": [
    {
     "data": {
      "text/plain": [
       "((332, 8), (332, 1))"
      ]
     },
     "execution_count": 59,
     "metadata": {},
     "output_type": "execute_result"
    }
   ],
   "source": [
    "X.shape, y.shape"
   ]
  },
  {
   "cell_type": "code",
   "execution_count": 60,
   "metadata": {},
   "outputs": [
    {
     "name": "stdout",
     "output_type": "stream",
     "text": [
      "[[ 0.00038584  0.01004864  0.01136155  0.00198109 -0.01417074 -0.01126256\n",
      "   0.00204202  0.        ]]\n",
      "Mean Absolute Error: 0.030301963560630713\n",
      "Mean Squared Error: 0.0014294809616912554\n",
      "Root Mean Squared Error: 0.037808477378641625\n",
      "Coeff of determination: 0.6277903821065481\n",
      "correlation is: 0.7923322422485078\n"
     ]
    }
   ],
   "source": [
    "## re-train\n",
    "X_train, X_test, y_train, y_test = train_test_split(X, y,\n",
    "                                                   test_size = 0.4,\n",
    "                                                    random_state=4)\n",
    "## create and train model\n",
    "from sklearn.linear_model import LinearRegression\n",
    "m3 = LinearRegression()\n",
    "m3.fit(X_train,y_train)\n",
    "y_pred = m3.predict(X_test)\n",
    "\n",
    "##measure\n",
    "print(m3.coef_)\n",
    "from sklearn import metrics\n",
    "print('Mean Absolute Error:', metrics.mean_absolute_error(y_test, y_pred))\n",
    "print('Mean Squared Error:', metrics.mean_squared_error(y_test, y_pred))\n",
    "print('Root Mean Squared Error:', np.sqrt(metrics.mean_squared_error(y_test, y_pred)))\n",
    "print('Coeff of determination:',m3.score(X,y))\n",
    "print('correlation is:',math.sqrt(m3.score(X,y)))"
   ]
  },
  {
   "cell_type": "markdown",
   "metadata": {},
   "source": [
    "Additional complexity did not meaniningfully decrease the errors or increase the R2. Stick with one of first models"
   ]
  },
  {
   "cell_type": "code",
   "execution_count": null,
   "metadata": {},
   "outputs": [],
   "source": []
  }
 ],
 "metadata": {
  "kernelspec": {
   "display_name": "Python 3",
   "language": "python",
   "name": "python3"
  },
  "language_info": {
   "codemirror_mode": {
    "name": "ipython",
    "version": 3
   },
   "file_extension": ".py",
   "mimetype": "text/x-python",
   "name": "python",
   "nbconvert_exporter": "python",
   "pygments_lexer": "ipython3",
   "version": "3.7.3"
  }
 },
 "nbformat": 4,
 "nbformat_minor": 2
}
